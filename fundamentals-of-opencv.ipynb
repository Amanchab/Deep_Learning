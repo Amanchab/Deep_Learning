{
 "cells": [
  {
   "cell_type": "code",
   "execution_count": 2,
   "metadata": {},
   "outputs": [],
   "source": [
    "# importing open cv\n",
    "import cv2\n",
    "import imutils"
   ]
  },
  {
   "cell_type": "code",
   "execution_count": 3,
   "metadata": {},
   "outputs": [],
   "source": [
    "img = cv2.imread('data/sample.png')\n",
    "cv2.imshow('sample', img)\n",
    "# cv2.imwrite('sampleCopy.png', img)\n",
    "cv2.waitKey(0) # 0 means zero time to close. If you give 1000 ms then it will close after 1 second.\n",
    "cv2.destroyAllWindows()\n"
   ]
  },
  {
   "cell_type": "code",
   "execution_count": 4,
   "metadata": {},
   "outputs": [
    {
     "name": "stdout",
     "output_type": "stream",
     "text": [
      "646950\n",
      "(454, 475, 3)\n",
      "uint8\n"
     ]
    }
   ],
   "source": [
    "print(img.size)\n",
    "print(img.shape)\n",
    "print(img.dtype)"
   ]
  },
  {
   "cell_type": "markdown",
   "metadata": {},
   "source": [
    "## Converting a coloured image to a gray scale image"
   ]
  },
  {
   "cell_type": "code",
   "execution_count": 5,
   "metadata": {},
   "outputs": [],
   "source": [
    "grayImg = cv2.cvtColor(img, cv2.COLOR_BGR2GRAY)\n",
    "cv2.imwrite('data/GrayImage.jpg', grayImg)\n",
    "cv2.imshow('Original', img)\n",
    "cv2.imshow('GrayImage', grayImg)\n",
    "cv2.waitKey(0)\n",
    "cv2.destroyAllWindows()"
   ]
  },
  {
   "cell_type": "markdown",
   "metadata": {},
   "source": [
    "## Resizing the image using imutils library"
   ]
  },
  {
   "cell_type": "code",
   "execution_count": 6,
   "metadata": {},
   "outputs": [],
   "source": [
    "resizeImg = imutils.resize(img, width=200)\n",
    "cv2.imwrite('data/resizedImage.jpg', resizeImg)\n",
    "cv2.imshow('resizedImage', resizeImg)\n",
    "cv2.imshow('Original', img)\n",
    "cv2.waitKey(0)\n",
    "cv2.destroyAllWindows()"
   ]
  },
  {
   "cell_type": "markdown",
   "metadata": {},
   "source": [
    "## Bluring the image\n",
    "* We blur the image to reduce the noise\n",
    "* Blurring smuges the colour\n",
    "* Real-time camera has a lot of noise. This is when we use Blurring."
   ]
  },
  {
   "cell_type": "code",
   "execution_count": 7,
   "metadata": {},
   "outputs": [],
   "source": [
    "gaussianBlurImg = cv2.GaussianBlur(img, (15, 15), 0)\n",
    "cv2.imwrite('data/gaussianIamge.jpg', gaussianBlurImg)\n",
    "cv2.imshow('gaussianBlur.jpg', gaussianBlurImg)\n",
    "cv2.waitKey(0)\n",
    "cv2.destroyAllWindows()"
   ]
  },
  {
   "cell_type": "markdown",
   "metadata": {},
   "source": [
    "## Changing image to binary"
   ]
  },
  {
   "cell_type": "code",
   "execution_count": 8,
   "metadata": {},
   "outputs": [],
   "source": [
    "threshImg = cv2.threshold(grayImg, 200, 255, cv2.THRESH_BINARY)[1]\n",
    "cv2.imwrite('data/thresholdImage.jpg', threshImg)\n",
    "cv2.imshow('thresholdImage', threshImg)\n",
    "cv2.imshow('GrayImage', grayImg)\n",
    "cv2.waitKey(0)\n",
    "cv2.destroyAllWindows()"
   ]
  },
  {
   "cell_type": "code",
   "execution_count": null,
   "metadata": {},
   "outputs": [],
   "source": []
  }
 ],
 "metadata": {
  "kernelspec": {
   "display_name": "Python 3 (ipykernel)",
   "language": "python",
   "name": "python3"
  },
  "language_info": {
   "codemirror_mode": {
    "name": "ipython",
    "version": 3
   },
   "file_extension": ".py",
   "mimetype": "text/x-python",
   "name": "python",
   "nbconvert_exporter": "python",
   "pygments_lexer": "ipython3",
   "version": "3.9.12"
  }
 },
 "nbformat": 4,
 "nbformat_minor": 2
}
