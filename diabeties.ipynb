{
 "cells": [
  {
   "cell_type": "code",
   "execution_count": 1,
   "metadata": {},
   "outputs": [],
   "source": [
    "from numpy import loadtxt\n",
    "import pandas as pd\n",
    "from keras.models import Sequential\n",
    "from keras.layers import Dense\n",
    "#from keras.models import model_from_json (package to export the results)"
   ]
  },
  {
   "cell_type": "code",
   "execution_count": 2,
   "metadata": {},
   "outputs": [
    {
     "data": {
      "text/html": [
       "<div>\n",
       "<style scoped>\n",
       "    .dataframe tbody tr th:only-of-type {\n",
       "        vertical-align: middle;\n",
       "    }\n",
       "\n",
       "    .dataframe tbody tr th {\n",
       "        vertical-align: top;\n",
       "    }\n",
       "\n",
       "    .dataframe thead th {\n",
       "        text-align: right;\n",
       "    }\n",
       "</style>\n",
       "<table border=\"1\" class=\"dataframe\">\n",
       "  <thead>\n",
       "    <tr style=\"text-align: right;\">\n",
       "      <th></th>\n",
       "      <th>0</th>\n",
       "      <th>1</th>\n",
       "      <th>2</th>\n",
       "      <th>3</th>\n",
       "      <th>4</th>\n",
       "      <th>5</th>\n",
       "      <th>6</th>\n",
       "      <th>7</th>\n",
       "      <th>8</th>\n",
       "    </tr>\n",
       "  </thead>\n",
       "  <tbody>\n",
       "    <tr>\n",
       "      <th>0</th>\n",
       "      <td>6</td>\n",
       "      <td>148</td>\n",
       "      <td>72</td>\n",
       "      <td>35</td>\n",
       "      <td>0</td>\n",
       "      <td>33.6</td>\n",
       "      <td>0.627</td>\n",
       "      <td>50</td>\n",
       "      <td>1</td>\n",
       "    </tr>\n",
       "    <tr>\n",
       "      <th>1</th>\n",
       "      <td>1</td>\n",
       "      <td>85</td>\n",
       "      <td>66</td>\n",
       "      <td>29</td>\n",
       "      <td>0</td>\n",
       "      <td>26.6</td>\n",
       "      <td>0.351</td>\n",
       "      <td>31</td>\n",
       "      <td>0</td>\n",
       "    </tr>\n",
       "    <tr>\n",
       "      <th>2</th>\n",
       "      <td>8</td>\n",
       "      <td>183</td>\n",
       "      <td>64</td>\n",
       "      <td>0</td>\n",
       "      <td>0</td>\n",
       "      <td>23.3</td>\n",
       "      <td>0.672</td>\n",
       "      <td>32</td>\n",
       "      <td>1</td>\n",
       "    </tr>\n",
       "    <tr>\n",
       "      <th>3</th>\n",
       "      <td>1</td>\n",
       "      <td>89</td>\n",
       "      <td>66</td>\n",
       "      <td>23</td>\n",
       "      <td>94</td>\n",
       "      <td>28.1</td>\n",
       "      <td>0.167</td>\n",
       "      <td>21</td>\n",
       "      <td>0</td>\n",
       "    </tr>\n",
       "    <tr>\n",
       "      <th>4</th>\n",
       "      <td>0</td>\n",
       "      <td>137</td>\n",
       "      <td>40</td>\n",
       "      <td>35</td>\n",
       "      <td>168</td>\n",
       "      <td>43.1</td>\n",
       "      <td>2.288</td>\n",
       "      <td>33</td>\n",
       "      <td>1</td>\n",
       "    </tr>\n",
       "  </tbody>\n",
       "</table>\n",
       "</div>"
      ],
      "text/plain": [
       "   0    1   2   3    4     5      6   7  8\n",
       "0  6  148  72  35    0  33.6  0.627  50  1\n",
       "1  1   85  66  29    0  26.6  0.351  31  0\n",
       "2  8  183  64   0    0  23.3  0.672  32  1\n",
       "3  1   89  66  23   94  28.1  0.167  21  0\n",
       "4  0  137  40  35  168  43.1  2.288  33  1"
      ]
     },
     "execution_count": 2,
     "metadata": {},
     "output_type": "execute_result"
    }
   ],
   "source": [
    "df = pd.read_csv('data/pima-indians-diabetes.csv', header=None)\n",
    "df.head()"
   ]
  },
  {
   "cell_type": "code",
   "execution_count": 3,
   "metadata": {},
   "outputs": [],
   "source": [
    "x = df.drop(columns=[8])\n",
    "y = df[8]"
   ]
  },
  {
   "cell_type": "code",
   "execution_count": 4,
   "metadata": {},
   "outputs": [],
   "source": [
    "# dataset = loadtxt('data/pima-indians-diabetes.csv', delimiter = ',')\n",
    "# x = dataset[:,0:8]\n",
    "# y = dataset[:,8]"
   ]
  },
  {
   "cell_type": "code",
   "execution_count": 5,
   "metadata": {},
   "outputs": [
    {
     "name": "stdout",
     "output_type": "stream",
     "text": [
      "Model: \"sequential\"\n",
      "_________________________________________________________________\n",
      " Layer (type)                Output Shape              Param #   \n",
      "=================================================================\n",
      " dense (Dense)               (None, 12)                108       \n",
      "                                                                 \n",
      " dense_1 (Dense)             (None, 8)                 104       \n",
      "                                                                 \n",
      " dense_2 (Dense)             (None, 1)                 9         \n",
      "                                                                 \n",
      "=================================================================\n",
      "Total params: 221 (884.00 Byte)\n",
      "Trainable params: 221 (884.00 Byte)\n",
      "Non-trainable params: 0 (0.00 Byte)\n",
      "_________________________________________________________________\n",
      "Epoch 1/19\n",
      "77/77 [==============================] - 1s 780us/step - loss: 23.5781 - accuracy: 0.6510\n",
      "Epoch 2/19\n",
      "77/77 [==============================] - 0s 723us/step - loss: 5.2564 - accuracy: 0.6133\n",
      "Epoch 3/19\n",
      "77/77 [==============================] - 0s 745us/step - loss: 1.1456 - accuracy: 0.6055\n",
      "Epoch 4/19\n",
      "77/77 [==============================] - 0s 733us/step - loss: 0.9232 - accuracy: 0.6211\n",
      "Epoch 5/19\n",
      "77/77 [==============================] - 0s 723us/step - loss: 0.8051 - accuracy: 0.6536\n",
      "Epoch 6/19\n",
      "77/77 [==============================] - 0s 671us/step - loss: 0.7654 - accuracy: 0.6497\n",
      "Epoch 7/19\n",
      "77/77 [==============================] - 0s 650us/step - loss: 0.7466 - accuracy: 0.6615\n",
      "Epoch 8/19\n",
      "77/77 [==============================] - 0s 885us/step - loss: 0.7497 - accuracy: 0.6354\n",
      "Epoch 9/19\n",
      "77/77 [==============================] - 0s 821us/step - loss: 0.7090 - accuracy: 0.6432\n",
      "Epoch 10/19\n",
      "77/77 [==============================] - 0s 721us/step - loss: 0.6922 - accuracy: 0.6328\n",
      "Epoch 11/19\n",
      "77/77 [==============================] - 0s 734us/step - loss: 0.6615 - accuracy: 0.6719\n",
      "Epoch 12/19\n",
      "77/77 [==============================] - 0s 761us/step - loss: 0.6766 - accuracy: 0.6576\n",
      "Epoch 13/19\n",
      "77/77 [==============================] - 0s 826us/step - loss: 0.6449 - accuracy: 0.6536\n",
      "Epoch 14/19\n",
      "77/77 [==============================] - 0s 892us/step - loss: 0.6327 - accuracy: 0.6849\n",
      "Epoch 15/19\n",
      "77/77 [==============================] - 0s 787us/step - loss: 0.6411 - accuracy: 0.6862\n",
      "Epoch 16/19\n",
      "77/77 [==============================] - 0s 779us/step - loss: 0.6389 - accuracy: 0.6810\n",
      "Epoch 17/19\n",
      "77/77 [==============================] - 0s 831us/step - loss: 0.6216 - accuracy: 0.6693\n",
      "Epoch 18/19\n",
      "77/77 [==============================] - 0s 698us/step - loss: 0.6334 - accuracy: 0.6680\n",
      "Epoch 19/19\n",
      "77/77 [==============================] - 0s 740us/step - loss: 0.6291 - accuracy: 0.6888\n"
     ]
    },
    {
     "data": {
      "text/plain": [
       "<keras.src.callbacks.History at 0x1abf496ce10>"
      ]
     },
     "execution_count": 5,
     "metadata": {},
     "output_type": "execute_result"
    }
   ],
   "source": [
    "model = Sequential()\n",
    "model.add(Dense(12, input_dim = 8, activation = 'relu'))\n",
    "model.add(Dense(8, activation = 'relu'))\n",
    "model.add(Dense(1, activation = 'sigmoid'))\n",
    "model.summary()\n",
    "\n",
    "model.compile(loss = 'binary_crossentropy', optimizer = 'adam', metrics = ['accuracy'])\n",
    "model.fit(x, y, epochs = 19, batch_size = 10)"
   ]
  },
  {
   "cell_type": "code",
   "execution_count": 6,
   "metadata": {},
   "outputs": [
    {
     "name": "stdout",
     "output_type": "stream",
     "text": [
      "24/24 [==============================] - 0s 737us/step - loss: 0.6322 - accuracy: 0.6589\n",
      "Accuracy : 65.89\n"
     ]
    }
   ],
   "source": [
    "_,accuracy = model.evaluate(x,y)\n",
    "print(\"Accuracy : %.2f\" % (accuracy*100))"
   ]
  },
  {
   "cell_type": "code",
   "execution_count": null,
   "metadata": {},
   "outputs": [],
   "source": []
  }
 ],
 "metadata": {
  "kernelspec": {
   "display_name": "Python 3 (ipykernel)",
   "language": "python",
   "name": "python3"
  },
  "language_info": {
   "codemirror_mode": {
    "name": "ipython",
    "version": 3
   },
   "file_extension": ".py",
   "mimetype": "text/x-python",
   "name": "python",
   "nbconvert_exporter": "python",
   "pygments_lexer": "ipython3",
   "version": "3.9.12"
  }
 },
 "nbformat": 4,
 "nbformat_minor": 2
}
